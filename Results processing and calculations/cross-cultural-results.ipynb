{
 "cells": [
  {
   "cell_type": "code",
   "execution_count": 4,
   "metadata": {},
   "outputs": [],
   "source": [
    "import pandas as pd\n",
    "import numpy as np\n",
    "\n",
    "df = pd.read_json('results-1.json')\n",
    "\n",
    "data = []\n",
    "for index, row in df.iterrows():\n",
    "    if isinstance(row['questionnaireAnswers'], list):  \n",
    "        for i, answer in enumerate(row['questionnaireAnswers']):  \n",
    "            answer_value = answer['answer']\n",
    "            if isinstance(answer_value, str) and answer_value.isdigit():\n",
    "                answer_value = int(answer_value)\n",
    "            elif pd.isna(answer_value):  \n",
    "                continue\n",
    "\n",
    "            if not isinstance(answer_value, int):\n",
    "                continue\n",
    "\n",
    "            #extra condition to filter out the two adRelatedId: Alps and skiing\n",
    "            if row['adRelatedId'] != 'JCfAhKUJGlLUAHze9ECo' and row['adRelatedId'] != 'Saci51fTJ9rFAqzizDMm':\n",
    "                continue\n",
    "\n",
    "            data.append({\n",
    "                'country': row['country'],\n",
    "                'questionIndex': i,\n",
    "                'answer': answer_value  \n",
    "            })\n",
    "\n",
    "df_normalized = pd.DataFrame(data)\n",
    "\n"
   ]
  },
  {
   "cell_type": "code",
   "execution_count": 5,
   "metadata": {},
   "outputs": [
    {
     "name": "stdout",
     "output_type": "stream",
     "text": [
      "   questionIndex      mean       std country\n",
      "0              0  3.333333  1.414214      CO\n",
      "1              1  2.444444  1.012739      CO\n",
      "2              2  3.259259  1.288786      CO\n",
      "3              3  2.703704  1.137298      CO\n",
      "4              4  3.115385  1.275207      CO\n",
      "5              5  2.884615  1.243444      CO\n",
      "6              6  2.307692  1.319674      CO\n",
      "7              7  3.269231  1.150919      CO\n",
      "8             10  4.692308  1.086986      CO\n",
      "   questionIndex      mean       std country\n",
      "0              0  3.142857  1.099450      AT\n",
      "1              1  2.846154  1.214232      AT\n",
      "2              2  1.692308  0.630425      AT\n",
      "3              3  2.769231  1.235168      AT\n",
      "4              4  1.923077  0.759555      AT\n",
      "5              5  2.615385  1.043908      AT\n",
      "6              6  2.230769  1.012739      AT\n",
      "7              7  2.230769  0.725011      AT\n",
      "8             10  4.692308  1.109400      AT\n"
     ]
    }
   ],
   "source": [
    "colombia_data = df_normalized[df_normalized['country'] == 'CO']\n",
    "austria_data = df_normalized[df_normalized['country'] == 'AT']\n",
    "\n",
    "colombia_stats = colombia_data.groupby('questionIndex')['answer'].agg(['mean', 'std']).reset_index()\n",
    "colombia_stats['country'] = 'CO'\n",
    "\n",
    "austria_stats = austria_data.groupby('questionIndex')['answer'].agg(['mean', 'std']).reset_index()\n",
    "austria_stats['country'] = 'AT'\n",
    "\n",
    "print(colombia_stats)\n",
    "print(austria_stats)"
   ]
  },
  {
   "cell_type": "code",
   "execution_count": 6,
   "metadata": {},
   "outputs": [
    {
     "name": "stdout",
     "output_type": "stream",
     "text": [
      "   questionIndex    t_stat   p_value\n",
      "0              0  0.438921  0.663141\n",
      "1              1 -1.101379  0.277660\n",
      "2              2  4.131965  0.000191\n",
      "3              3 -0.166034  0.869011\n",
      "4              4  3.095402  0.003735\n",
      "5              5  0.670312  0.506821\n",
      "6              6  0.184326  0.854764\n",
      "7              7  2.961707  0.005318\n",
      "8             10  0.000000  1.000000\n"
     ]
    }
   ],
   "source": [
    "from scipy.stats import ttest_ind\n",
    "\n",
    "t_test_results = []\n",
    "\n",
    "for q_index in colombia_stats['questionIndex'].unique():\n",
    "    col_data = colombia_data[colombia_data['questionIndex'] == q_index]['answer']\n",
    "    aus_data = austria_data[austria_data['questionIndex'] == q_index]['answer']\n",
    "    \n",
    "    t_stat, p_value = ttest_ind(col_data, aus_data)\n",
    "    \n",
    "    t_test_results.append({\n",
    "        'questionIndex': q_index,\n",
    "        't_stat': t_stat,\n",
    "        'p_value': p_value\n",
    "    })\n",
    "\n",
    "t_test_results_df = pd.DataFrame(t_test_results)\n",
    "\n",
    "print(t_test_results_df)\n"
   ]
  }
 ],
 "metadata": {
  "kernelspec": {
   "display_name": "Python 3",
   "language": "python",
   "name": "python3"
  },
  "language_info": {
   "codemirror_mode": {
    "name": "ipython",
    "version": 3
   },
   "file_extension": ".py",
   "mimetype": "text/x-python",
   "name": "python",
   "nbconvert_exporter": "python",
   "pygments_lexer": "ipython3",
   "version": "3.10.11"
  }
 },
 "nbformat": 4,
 "nbformat_minor": 2
}
